{
  "nbformat": 4,
  "nbformat_minor": 0,
  "metadata": {
    "colab": {
      "provenance": []
    },
    "kernelspec": {
      "name": "python3",
      "display_name": "Python 3"
    },
    "language_info": {
      "name": "python"
    }
  },
  "cells": [
    {
      "cell_type": "code",
      "execution_count": null,
      "metadata": {
        "colab": {
          "base_uri": "https://localhost:8080/"
        },
        "id": "NDFuUGnGScRf",
        "outputId": "06d6b1f2-4aff-4900-c6d9-07a2abd29a66"
      },
      "outputs": [
        {
          "output_type": "stream",
          "name": "stdout",
          "text": [
            "Final Training Error (MSE): 5.604514545813598e-06\n",
            "Testing Error (MSE): 1.7181272785237402e-05\n"
          ]
        }
      ],
      "source": [
        "import numpy as np\n",
        "\n",
        "# Sigmoid Activation Function\n",
        "def sigmoid(x):\n",
        "    return 1 / (1 + np.exp(-x))\n",
        "\n",
        "# Derivative of Sigmoid\n",
        "def sigmoid_derivative(x):\n",
        "    return sigmoid(x) * (1 - sigmoid(x))\n",
        "\n",
        "# Mean Squared Error Function\n",
        "def mean_squared_error(y_true, y_pred):\n",
        "    return np.mean((y_true - y_pred) ** 2)\n",
        "\n",
        "# Training Data (from Table 1)\n",
        "X_train = np.array([\n",
        "    [0.1, 0.2, 0.3],\n",
        "    [0.2, 0.3, 0.4],\n",
        "    [0.3, 0.4, 0.5],\n",
        "    [0.5, 0.6, 0.7],\n",
        "    [0.1, 0.3, 0.5],\n",
        "    [0.2, 0.4, 0.6],\n",
        "    [0.3, 0.5, 0.7],\n",
        "    [0.4, 0.6, 0.8],\n",
        "    [0.5, 0.7, 0.1]\n",
        "])\n",
        "y_train = np.array([0.5349, 0.5498, 0.5646, 0.5939, 0.5548, 0.5695, 0.5842, 0.5987, 0.5548])\n",
        "\n",
        "# Test Data (from Table 2)\n",
        "X_test = np.array([\n",
        "    [0.6, 0.7, 0.8],\n",
        "    [0.7, 0.8, 0.9]\n",
        "])\n",
        "y_test = np.array([0.6083, 0.6225])\n",
        "\n",
        "# Initialize weights and bias\n",
        "weights = np.random.rand(3)\n",
        "bias = np.random.rand(1)\n",
        "learning_rate = 0.01\n",
        "epochs = 10000\n",
        "\n",
        "# Training Loop\n",
        "for epoch in range(epochs):\n",
        "    # Forward Pass\n",
        "    linear_output = np.dot(X_train, weights) + bias\n",
        "    predictions = sigmoid(linear_output)\n",
        "\n",
        "    # Calculate Error\n",
        "    error = y_train - predictions\n",
        "\n",
        "    # Backward Pass (Gradient Descent)\n",
        "    gradient = error * sigmoid_derivative(linear_output)\n",
        "    weights += learning_rate * np.dot(X_train.T, gradient)\n",
        "    bias += learning_rate * np.sum(gradient)\n",
        "\n",
        "\n",
        "train_error = mean_squared_error(y_train, predictions)\n",
        "print(\"Final Training Error (MSE):\", train_error)\n",
        "\n",
        "test_predictions = sigmoid(np.dot(X_test, weights) + bias)\n",
        "test_error = mean_squared_error(y_test, test_predictions)\n",
        "print(\"Testing Error (MSE):\", test_error)\n",
        "\n",
        "\n",
        "def predict(inputs):\n",
        "    inputs = np.array(inputs)\n",
        "    output = sigmoid(np.dot(inputs, weights) + bias)\n",
        "    return output\n",
        "\n"
      ]
    },
    {
      "cell_type": "code",
      "source": [
        "# Get user input\n",
        "user_input = list(map(float, input(\"Enter values for x1, x2, x3 separated by spaces: \").split()))\n",
        "predicted_output = predict(user_input)\n",
        "print(\"Predicted Output:\", predicted_output)"
      ],
      "metadata": {
        "colab": {
          "base_uri": "https://localhost:8080/"
        },
        "id": "5J59clZnS57y",
        "outputId": "dcbef3fe-cd0b-49fb-eba9-68b8fb639edb"
      },
      "execution_count": null,
      "outputs": [
        {
          "output_type": "stream",
          "name": "stdout",
          "text": [
            "Enter values for x1, x2, x3 separated by spaces: 0.1 0.2 0.3\n",
            "Predicted Output: [0.5387156]\n"
          ]
        }
      ]
    }
  ]
}