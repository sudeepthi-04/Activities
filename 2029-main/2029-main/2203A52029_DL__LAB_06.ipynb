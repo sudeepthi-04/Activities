{
  "nbformat": 4,
  "nbformat_minor": 0,
  "metadata": {
    "colab": {
      "provenance": []
    },
    "kernelspec": {
      "name": "python3",
      "display_name": "Python 3"
    },
    "language_info": {
      "name": "python"
    }
  },
  "cells": [
    {
      "cell_type": "code",
      "execution_count": 2,
      "metadata": {
        "colab": {
          "base_uri": "https://localhost:8080/"
        },
        "id": "MNxj0-sdbjp1",
        "outputId": "4c5cddd0-b4fb-471e-a070-7cfc3b0268eb"
      },
      "outputs": [
        {
          "output_type": "stream",
          "name": "stdout",
          "text": [
            "*** No CODEPAGE record, no encoding_override: will use 'iso-8859-1'\n",
            "      X    Y\n",
            "0   7.6  157\n",
            "1   7.1  174\n",
            "2   8.2  175\n",
            "3   7.5  188\n",
            "4   7.4  171\n",
            "5   7.8  143\n",
            "6   7.3  217\n",
            "7   8.0  190\n",
            "8   7.1  142\n",
            "9   7.5  190\n",
            "10  8.1  215\n",
            "11  7.0  199\n",
            "12  7.3  262\n",
            "13  7.8  105\n",
            "14  7.3  121\n",
            "15  8.0   81\n",
            "16  8.5   82\n",
            "17  7.1  210\n",
            "18  8.2  202\n",
            "19  7.9  155\n",
            "20  7.6  157\n",
            "21  8.8  147\n",
            "22  7.2  133\n",
            "23  7.9   53\n",
            "24  8.1   56\n",
            "25  7.7  113\n",
            "26  8.4   35\n",
            "27  7.4  125\n",
            "28  7.3   76\n",
            "29  8.5   48\n",
            "30  7.8  147\n",
            "31  6.7  117\n",
            "32  7.1  182\n",
            "33  7.3   87\n"
          ]
        }
      ],
      "source": [
        "import numpy as np\n",
        "import pandas as pd\n",
        "from sklearn.model_selection import train_test_split\n",
        "from sklearn.metrics import mean_squared_error, mean_absolute_error\n",
        "\n",
        "data = pd.read_excel('/content/slr09.xls', engine='xlrd')\n",
        "\n",
        "X = data[['X']].values\n",
        "y = data['Y'].values\n",
        "print(data)"
      ]
    },
    {
      "cell_type": "code",
      "source": [
        "# Data normalization\n",
        "X_mean = np.mean(X)\n",
        "X_std = np.std(X)\n",
        "X_normalized = (X - X_mean) / X_std\n",
        "\n",
        "y_mean = np.mean(y)\n",
        "y_std = np.std(y)\n",
        "y_normalized = (y - y_mean) / y_std\n",
        "\n",
        "print(y_normalized)"
      ],
      "metadata": {
        "colab": {
          "base_uri": "https://localhost:8080/"
        },
        "id": "cJ7KJWHvc2Sp",
        "outputId": "38cb3e76-6555-45c1-fd1c-a2857ee4c14c"
      },
      "execution_count": 3,
      "outputs": [
        {
          "output_type": "stream",
          "name": "stdout",
          "text": [
            "[ 0.25847285  0.56778404  0.58597881  0.8225109   0.51319971  0.00374598\n",
            "  1.3501594   0.85890045 -0.01444879  0.85890045  1.31376985  1.02265344\n",
            "  2.16892432 -0.6876555  -0.39653909 -1.12433013 -1.10613535  1.22279597\n",
            "  1.07723776  0.22208329  0.25847285  0.07652509 -0.17820178 -1.63378385\n",
            " -1.57919952 -0.5420973  -1.96128982 -0.32375998 -1.21530401 -1.72475773\n",
            "  0.07652509 -0.46931819  0.71334225 -1.01516147]\n"
          ]
        }
      ]
    },
    {
      "cell_type": "code",
      "source": [
        "# Split data into training and testing sets\n",
        "X_train, X_test, y_train, y_test = train_test_split(X_normalized, y_normalized, test_size=0.1, random_state=42)\n",
        "\n",
        "# Initialize model parameters\n",
        "w = 0\n",
        "b = 0\n",
        "learning_rate = 0.01\n",
        "epochs = 1000\n",
        "\n",
        "# Stochastic Gradient Descent (SGD)\n",
        "for epoch in range(epochs):\n",
        "    for i in range(len(X_train)):\n",
        "        y_pred = w * X_train[i] + b\n",
        "        dw = (y_pred - y_train[i]) * X_train[i]\n",
        "        db = (y_pred - y_train[i])\n",
        "        w = w - learning_rate * dw\n",
        "        b = b - learning_rate * db\n",
        "\n",
        "# Predictions\n",
        "y_train_pred = w * X_train + b\n",
        "y_test_pred = w * X_test + b\n",
        "\n",
        "# Denormalize the predictions\n",
        "y_train_pred = y_train_pred * y_std + y_mean\n",
        "y_test_pred = y_test_pred * y_std + y_mean"
      ],
      "metadata": {
        "id": "t48XyR06dvuG"
      },
      "execution_count": 4,
      "outputs": []
    },
    {
      "cell_type": "code",
      "source": [
        "# Evaluate the model\n",
        "mse_train = mean_squared_error(y_train * y_std + y_mean, y_train_pred)\n",
        "rmse_train = np.sqrt(mse_train)\n",
        "mae_train = mean_absolute_error(y_train * y_std + y_mean, y_train_pred)\n",
        "\n",
        "mse_test = mean_squared_error(y_test * y_std + y_mean, y_test_pred)\n",
        "rmse_test = np.sqrt(mse_test)\n",
        "mae_test = mean_absolute_error(y_test * y_std + y_mean, y_test_pred)\n",
        "\n",
        "\n",
        "print(f\"Training MSE: {mse_train}\")\n",
        "print(f\"Training RMSE: {rmse_train}\")\n",
        "print(f\"Training MAE: {mae_train}\")\n",
        "print(f\"Test MSE: {mse_test}\")\n",
        "print(f\"Test RMSE: {rmse_test}\")\n",
        "print(f\"Test MAE: {mae_test}\")\n"
      ],
      "metadata": {
        "colab": {
          "base_uri": "https://localhost:8080/"
        },
        "id": "xgKAABMqdy3f",
        "outputId": "231ea7c8-e8ee-4a84-8049-7ddb125c32a4"
      },
      "execution_count": 5,
      "outputs": [
        {
          "output_type": "stream",
          "name": "stdout",
          "text": [
            "Training MSE: 2658.4308815970494\n",
            "Training RMSE: 51.55997363844409\n",
            "Training MAE: 43.77089377773982\n",
            "Test MSE: 3262.688787422829\n",
            "Test RMSE: 57.119950870276746\n",
            "Test MAE: 48.36362430430688\n"
          ]
        }
      ]
    }
  ]
}