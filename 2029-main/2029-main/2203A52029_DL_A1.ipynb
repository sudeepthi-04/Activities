{
  "nbformat": 4,
  "nbformat_minor": 0,
  "metadata": {
    "colab": {
      "provenance": []
    },
    "kernelspec": {
      "name": "python3",
      "display_name": "Python 3"
    },
    "language_info": {
      "name": "python"
    }
  },
  "cells": [
    {
      "cell_type": "markdown",
      "source": [
        "With Lib"
      ],
      "metadata": {
        "id": "dgh82oVEEp22"
      }
    },
    {
      "cell_type": "code",
      "execution_count": 4,
      "metadata": {
        "colab": {
          "base_uri": "https://localhost:8080/"
        },
        "id": "Hyr0Gs68AZeG",
        "outputId": "b7e830a1-42f2-430b-fac6-7829448183b2"
      },
      "outputs": [
        {
          "output_type": "stream",
          "name": "stdout",
          "text": [
            "Mean Absolute Error: 0.4600000000000016\n",
            "Mean Squared Error: 0.24600000000000147\n",
            "Root Mean Squared Error: 0.49598387070549127\n"
          ]
        }
      ],
      "source": [
        "import numpy as np\n",
        "\n",
        "y_actual = np.array([20, 30, 40, 50, 60])\n",
        "y_pred = np.array([20.5, 30.3, 40.2, 50.6, 60.7])\n",
        "\n",
        "mae=np.mean(np.abs(y_actual - y_pred))\n",
        "mse=np.mean((y_actual - y_pred)**2)\n",
        "rmse=np.sqrt(mse)\n",
        "print(\"Mean Absolute Error:\", mae)\n",
        "print(\"Mean Squared Error:\", mse)\n",
        "print(\"Root Mean Squared Error:\", rmse)\n"
      ]
    },
    {
      "cell_type": "code",
      "source": [
        "from sklearn.metrics import confusion_matrix, accuracy_score, precision_score, recall_score, f1_score\n",
        "\n",
        "# Data from Table 2\n",
        "y_actual = [0, 0, 0, 0, 0, 1, 1, 1, 1, 1, 2, 2, 2, 2, 2]\n",
        "y_pred = [0, 0, 1, 2, 2, 1, 0, 2, 0, 2, 0, 0, 1, 2, 2]\n",
        "\n",
        "# Confusion Matrix\n",
        "cm = confusion_matrix(y_actual, y_pred)\n",
        "print(\"Confusion Matrix:\")\n",
        "print(cm)\n",
        "\n",
        "# Accuracy\n",
        "accuracy = accuracy_score(y_actual, y_pred)\n",
        "print(\"\\nAccuracy:\", accuracy)\n",
        "\n",
        "# Precision, Recall, F1 Score\n",
        "precision = precision_score(y_actual, y_pred, average=None)\n",
        "recall = recall_score(y_actual, y_pred, average=None)\n",
        "f1 = f1_score(y_actual, y_pred, average=None)\n",
        "\n",
        "print(\"Precision:\", precision)\n",
        "print(\"Recall:\", recall)\n",
        "print(\"F1 Score:\", f1)\n",
        "\n",
        "# Overall metrics (micro, macro, weighted averages)\n",
        "precision_overall = precision_score(y_actual, y_pred, average='macro')\n",
        "recall_overall = recall_score(y_actual, y_pred, average='macro')\n",
        "f1_overall = f1_score(y_actual, y_pred, average='macro')\n",
        "\n",
        "print(\"\\nOverall Precision (Macro):\", precision_overall)\n",
        "print(\"Overall Recall (Macro):\", recall_overall)\n",
        "print(\"Overall F1 Score (Macro):\", f1_overall)"
      ],
      "metadata": {
        "colab": {
          "base_uri": "https://localhost:8080/"
        },
        "id": "oM_3cxU9H7mC",
        "outputId": "9f56b0c2-db38-44d8-86e5-c0c0537db0bb"
      },
      "execution_count": 6,
      "outputs": [
        {
          "output_type": "stream",
          "name": "stdout",
          "text": [
            "Confusion Matrix:\n",
            "[[2 1 2]\n",
            " [2 1 2]\n",
            " [2 1 2]]\n",
            "\n",
            "Accuracy: 0.3333333333333333\n",
            "Precision: [0.33333333 0.33333333 0.33333333]\n",
            "Recall: [0.4 0.2 0.4]\n",
            "F1 Score: [0.36363636 0.25       0.36363636]\n",
            "\n",
            "Overall Precision (Macro): 0.3333333333333333\n",
            "Overall Recall (Macro): 0.3333333333333333\n",
            "Overall F1 Score (Macro): 0.32575757575757575\n"
          ]
        }
      ]
    },
    {
      "cell_type": "markdown",
      "source": [
        "Without Lib"
      ],
      "metadata": {
        "id": "argKpj64EtdX"
      }
    },
    {
      "cell_type": "code",
      "source": [
        "y_actual = [20, 30, 40, 50, 60]\n",
        "y_pred = [20.5, 30.3, 40.2, 50.6, 60.7]\n",
        "\n",
        "n = len(y_actual)\n",
        "mae = sum(abs(ya - yp) for ya, yp in zip(y_actual, y_pred)) / n\n",
        "mse = sum((ya - yp) ** 2 for ya, yp in zip(y_actual, y_pred)) / n\n",
        "rmse = mse ** 0.5\n",
        "\n",
        "print(\"Mean Absolute Error (MAE):\", mae)\n",
        "print(\"Mean Squared Error (MSE):\", mse)\n",
        "print(\"Root Mean Squared Error (RMSE):\", rmse)"
      ],
      "metadata": {
        "colab": {
          "base_uri": "https://localhost:8080/"
        },
        "id": "XILI2EeREyYU",
        "outputId": "b09a1862-f065-4593-f395-308f5b60e3f3"
      },
      "execution_count": 3,
      "outputs": [
        {
          "output_type": "stream",
          "name": "stdout",
          "text": [
            "Mean Absolute Error (MAE): 0.4600000000000016\n",
            "Mean Squared Error (MSE): 0.24600000000000147\n",
            "Root Mean Squared Error (RMSE): 0.49598387070549127\n"
          ]
        }
      ]
    },
    {
      "cell_type": "markdown",
      "source": [],
      "metadata": {
        "id": "vWyBc7CfH0Da"
      }
    },
    {
      "cell_type": "code",
      "source": [
        "\n",
        "y_actual = [0, 0, 0, 0, 0, 1, 1, 1, 1, 1, 2, 2, 2, 2, 2]\n",
        "y_pred = [0, 0, 1, 2, 2, 1, 0, 2, 0, 2, 0, 0, 1, 2, 2]\n",
        "\n",
        "# Initialize confusion matrix\n",
        "classes = sorted(set(y_actual))  # Unique classes: [0, 1, 2]\n",
        "confusion_matrix = {c: {c_: 0 for c_ in classes} for c in classes}\n",
        "\n",
        "# Fill confusion matrix\n",
        "for ya, yp in zip(y_actual, y_pred):\n",
        "    confusion_matrix[ya][yp] += 1\n",
        "\n",
        "# Metrics calculation\n",
        "total_correct = sum(confusion_matrix[c][c] for c in classes)\n",
        "total_samples = len(y_actual)\n",
        "\n",
        "# Accuracy\n",
        "accuracy = total_correct / total_samples\n",
        "\n",
        "# Precision, Recall, F1 Score for each class\n",
        "precision = {}\n",
        "recall = {}\n",
        "f1_score = {}\n",
        "\n",
        "for c in classes:\n",
        "    tp = confusion_matrix[c][c]\n",
        "    fp = sum(confusion_matrix[c_][c] for c_ in classes if c_ != c)\n",
        "    fn = sum(confusion_matrix[c][c_] for c_ in classes if c_ != c)\n",
        "    precision[c] = tp / (tp + fp) if tp + fp > 0 else 0\n",
        "    recall[c] = tp / (tp + fn) if tp + fn > 0 else 0\n",
        "    f1_score[c] = (2 * precision[c] * recall[c] / (precision[c] + recall[c])) if precision[c] + recall[c] > 0 else 0\n",
        "\n",
        "# Print results\n",
        "print(\"Confusion Matrix:\")\n",
        "for c in classes:\n",
        "    print(c, [confusion_matrix[c][c_] for c_ in classes])\n",
        "\n",
        "print(\"\\nAccuracy:\", accuracy)\n",
        "print(\"Precision:\", precision)\n",
        "print(\"Recall:\", recall)\n",
        "print(\"F1 Score:\", f1_score)"
      ],
      "metadata": {
        "colab": {
          "base_uri": "https://localhost:8080/"
        },
        "id": "OTmsjAkjH4jh",
        "outputId": "572c8f2d-7a52-4a99-d7bf-1ea5857cf4d3"
      },
      "execution_count": 7,
      "outputs": [
        {
          "output_type": "stream",
          "name": "stdout",
          "text": [
            "Confusion Matrix:\n",
            "0 [2, 1, 2]\n",
            "1 [2, 1, 2]\n",
            "2 [2, 1, 2]\n",
            "\n",
            "Accuracy: 0.3333333333333333\n",
            "Precision: {0: 0.3333333333333333, 1: 0.3333333333333333, 2: 0.3333333333333333}\n",
            "Recall: {0: 0.4, 1: 0.2, 2: 0.4}\n",
            "F1 Score: {0: 0.3636363636363636, 1: 0.25, 2: 0.3636363636363636}\n"
          ]
        }
      ]
    }
  ]
}