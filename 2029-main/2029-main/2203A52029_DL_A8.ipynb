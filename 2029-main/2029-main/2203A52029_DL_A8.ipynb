{
  "nbformat": 4,
  "nbformat_minor": 0,
  "metadata": {
    "colab": {
      "provenance": []
    },
    "kernelspec": {
      "name": "python3",
      "display_name": "Python 3"
    },
    "language_info": {
      "name": "python"
    }
  },
  "cells": [
    {
      "cell_type": "code",
      "execution_count": 2,
      "metadata": {
        "colab": {
          "base_uri": "https://localhost:8080/"
        },
        "id": "v4n4YrrskK3v",
        "outputId": "2a670633-b79d-4e9d-f141-8ebf38deb048"
      },
      "outputs": [
        {
          "output_type": "stream",
          "name": "stdout",
          "text": [
            "\n",
            "Model Performance Metrics:\n",
            "Training MSE: 0.001477, RMSE: 0.038437, MAE: 0.032105\n",
            "Test MSE: 0.019287, RMSE: 0.138879, MAE: 0.040743\n"
          ]
        }
      ],
      "source": [
        "import pandas as pd\n",
        "import numpy as np\n",
        "from sklearn.model_selection import train_test_split\n",
        "from sklearn.preprocessing import MinMaxScaler\n",
        "from sklearn.metrics import mean_squared_error, mean_absolute_error\n",
        "\n",
        "# Load the Excel file\n",
        "file_path = \"/content/Load Data in kW.xlsx\"\n",
        "df = pd.read_excel(file_path, header=None)\n",
        "\n",
        "# Convert the dataframe into a NumPy array\n",
        "load_data = df.values.flatten()\n",
        "\n",
        "# Create input-output pairs (X: load from 24 hours ago, y: current load)\n",
        "X = load_data[:-24].reshape(-1, 1)  # All values except the last 24\n",
        "y = load_data[24:].reshape(-1, 1)   # All values except the first 24\n",
        "\n",
        "# Normalize the data using Min-Max scaling\n",
        "scaler = MinMaxScaler()\n",
        "X_scaled = scaler.fit_transform(X)\n",
        "y_scaled = scaler.fit_transform(y)\n",
        "\n",
        "X_train, X_test, y_train, y_test = train_test_split(X_scaled, y_scaled, test_size=0.1, random_state=42)\n",
        "\n",
        "# Initialize parameters\n",
        "m = 1.0  # Initial slope\n",
        "c = -1.0  # Initial intercept\n",
        "eta = 0.1  # Learning rate\n",
        "gamma = 0.9  # Decay factor\n",
        "epochs = 100\n",
        "\n",
        "# Initialize moving averages of squared gradients\n",
        "m_squared_grad = 0\n",
        "c_squared_grad = 0\n",
        "epsilon = 1e-8  # Small value to prevent division by zero\n",
        "\n",
        "# Training loop\n",
        "for epoch in range(epochs):\n",
        "    # Compute predictions\n",
        "    y_pred_train = m * X_train.flatten() + c\n",
        "\n",
        "    # Compute gradients\n",
        "    grad_m = -2 * np.mean((y_train.flatten() - y_pred_train) * X_train.flatten())\n",
        "    grad_c = -2 * np.mean(y_train.flatten() - y_pred_train)\n",
        "\n",
        "    # Update moving averages of squared gradients\n",
        "    m_squared_grad = gamma * m_squared_grad + (1 - gamma) * grad_m**2\n",
        "    c_squared_grad = gamma * c_squared_grad + (1 - gamma) * grad_c**2\n",
        "\n",
        "    # Update parameters using RMSprop formula\n",
        "    m -= (eta / (np.sqrt(m_squared_grad) + epsilon)) * grad_m\n",
        "    c -= (eta / (np.sqrt(c_squared_grad) + epsilon)) * grad_c\n",
        "\n",
        "    # Print progress every 10 epochs\n",
        "    if (epoch + 1) % 10 == 0:\n",
        "        loss = np.mean((y_train.flatten() - y_pred_train) ** 2)  # MSE loss\n",
        "\n",
        "# Compute error metrics for training and test sets\n",
        "y_train_pred = m * X_train.flatten() + c\n",
        "y_test_pred = m * X_test.flatten() + c\n",
        "\n",
        "mse_train = mean_squared_error(y_train, y_train_pred)\n",
        "rmse_train = np.sqrt(mse_train)\n",
        "mae_train = mean_absolute_error(y_train, y_train_pred)\n",
        "\n",
        "mse_test = mean_squared_error(y_test, y_test_pred)\n",
        "rmse_test = np.sqrt(mse_test)\n",
        "mae_test = mean_absolute_error(y_test, y_test_pred)\n",
        "\n",
        "# Display results\n",
        "print(\"\\nModel Performance Metrics:\")\n",
        "print(f\"Training MSE: {mse_train:.6f}, RMSE: {rmse_train:.6f}, MAE: {mae_train:.6f}\")\n",
        "print(f\"Test MSE: {mse_test:.6f}, RMSE: {rmse_test:.6f}, MAE: {mae_test:.6f}\")\n"
      ]
    }
  ]
}