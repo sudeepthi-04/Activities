{
  "nbformat": 4,
  "nbformat_minor": 0,
  "metadata": {
    "colab": {
      "provenance": []
    },
    "kernelspec": {
      "name": "python3",
      "display_name": "Python 3"
    },
    "language_info": {
      "name": "python"
    }
  },
  "cells": [
    {
      "cell_type": "code",
      "source": [
        "import numpy as np\n",
        "\n",
        "X_train = np.array([[0.1, 0.2, 0.3], [0.2, 0.3, 0.4], [0.3, 0.4, 0.5], [0.5, 0.6, 0.7],\n",
        "                    [0.1, 0.3, 0.5], [0.2, 0.4, 0.6], [0.3, 0.5, 0.7], [0.4, 0.6, 0.8], [0.5, 0.7, 0.1]])\n",
        "y_train = np.array([0.14, 0.2, 0.26, 0.38, 0.22, 0.28, 0.34, 0.4, 0.22])\n",
        "\n",
        "weights = np.random.randn(3)\n",
        "bias = np.random.randn()\n",
        "\n",
        "learning_rate = 0.01\n",
        "epochs = 100\n",
        "\n",
        "def compute_mse(y_true, y_pred):\n",
        "    return np.mean((y_true - y_pred) ** 2)\n",
        "\n",
        "# Stochastic Gradient Descent\n",
        "for epoch in range(epochs):\n",
        "\n",
        "    indices = np.random.permutation(len(X_train))\n",
        "    X_train_shuffled = X_train[indices]\n",
        "    y_train_shuffled = y_train[indices]\n",
        "\n",
        "    for i in range(len(X_train)):\n",
        "        x_i = X_train_shuffled[i]\n",
        "        y_i = y_train_shuffled[i]\n",
        "\n",
        "        y_pred = np.dot(x_i, weights) + bias\n",
        "        loss = compute_mse(np.array([y_i]), np.array([y_pred]))  # MSE for a single sample\n",
        "\n",
        "        # Compute gradients\n",
        "        d_loss = 2 * (y_pred - y_i)\n",
        "        d_weights = x_i * d_loss\n",
        "        d_bias = d_loss\n",
        "\n",
        "        # Update parameters\n",
        "        weights -= learning_rate * d_weights\n",
        "        bias -= learning_rate * d_bias\n",
        "\n",
        "    if epoch % 10 == 0:\n",
        "        y_train_pred = X_train.dot(weights) + bias\n",
        "        train_mse = compute_mse(y_train, y_train_pred)\n",
        "print(f\"Epoch {epoch}, Loss: {train_mse:.4f}\")\n",
        "\n",
        "y_train_pred = X_train.dot(weights) + bias\n",
        "train_mse = compute_mse(y_train, y_train_pred)\n",
        "print(f\"Final Training MSE: {train_mse:.4f}\")\n"
      ],
      "metadata": {
        "id": "159xu40Z-gjK",
        "colab": {
          "base_uri": "https://localhost:8080/"
        },
        "outputId": "d23adb93-eb3e-4a7b-ad7b-39953678295c"
      },
      "execution_count": 5,
      "outputs": [
        {
          "output_type": "stream",
          "name": "stdout",
          "text": [
            "Epoch 99, Loss: 0.0131\n",
            "Final Training MSE: 0.0118\n"
          ]
        }
      ]
    },
    {
      "cell_type": "code",
      "source": [],
      "metadata": {
        "id": "ZhjMx7c_Rpj9"
      },
      "execution_count": null,
      "outputs": []
    }
  ]
}